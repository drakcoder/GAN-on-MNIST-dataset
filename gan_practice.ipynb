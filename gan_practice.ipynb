{
  "nbformat": 4,
  "nbformat_minor": 0,
  "metadata": {
    "accelerator": "GPU",
    "colab": {
      "name": "gan_practice",
      "provenance": [],
      "collapsed_sections": [],
      "authorship_tag": "ABX9TyP7eDWem/3ESlFF/L32PRyd",
      "include_colab_link": true
    },
    "kernelspec": {
      "display_name": "Python 3",
      "name": "python3"
    }
  },
  "cells": [
    {
      "cell_type": "markdown",
      "metadata": {
        "id": "view-in-github",
        "colab_type": "text"
      },
      "source": [
        "<a href=\"https://colab.research.google.com/github/drakcoder/GAN-on-MNIST-dataset/blob/main/gan_practice.ipynb\" target=\"_parent\"><img src=\"https://colab.research.google.com/assets/colab-badge.svg\" alt=\"Open In Colab\"/></a>"
      ]
    },
    {
      "cell_type": "code",
      "metadata": {
        "id": "H1O2vlQh-xRA"
      },
      "source": [
        "from keras.datasets.mnist import load_data\r\n",
        "import matplotlib.pyplot as plt\r\n",
        "import numpy as np"
      ],
      "execution_count": null,
      "outputs": []
    },
    {
      "cell_type": "code",
      "metadata": {
        "colab": {
          "base_uri": "https://localhost:8080/"
        },
        "id": "oE95G8hp-1N-",
        "outputId": "71dbf904-fe21-4804-f012-fddcdf9d83f3"
      },
      "source": [
        "(X_train,y_train),(X_test,y_test)=load_data()"
      ],
      "execution_count": null,
      "outputs": [
        {
          "output_type": "stream",
          "text": [
            "Downloading data from https://storage.googleapis.com/tensorflow/tf-keras-datasets/mnist.npz\n",
            "11493376/11490434 [==============================] - 0s 0us/step\n"
          ],
          "name": "stdout"
        }
      ]
    },
    {
      "cell_type": "code",
      "metadata": {
        "colab": {
          "base_uri": "https://localhost:8080/"
        },
        "id": "T-QfB6tU-75b",
        "outputId": "6b52e8a7-e484-4104-ba29-90c6fc699417"
      },
      "source": [
        "X_test.shape"
      ],
      "execution_count": null,
      "outputs": [
        {
          "output_type": "execute_result",
          "data": {
            "text/plain": [
              "(10000, 28, 28)"
            ]
          },
          "metadata": {
            "tags": []
          },
          "execution_count": 3
        }
      ]
    },
    {
      "cell_type": "code",
      "metadata": {
        "colab": {
          "base_uri": "https://localhost:8080/",
          "height": 282
        },
        "id": "B7BtBWi9-_C6",
        "outputId": "9de1b515-a176-490b-b0b9-3a4d6472fbec"
      },
      "source": [
        "plt.imshow(X_train[0],cmap='gray')\r\n",
        "print(X_train[0].shape)"
      ],
      "execution_count": null,
      "outputs": [
        {
          "output_type": "stream",
          "text": [
            "(28, 28)\n"
          ],
          "name": "stdout"
        },
        {
          "output_type": "display_data",
          "data": {
            "image/png": "[encoded data removed]",
            "text/plain": [
              "<Figure size 432x288 with 1 Axes>"
            ]
          },
          "metadata": {
            "tags": [],
            "needs_background": "light"
          }
        }
      ]
    },
    {
      "cell_type": "code",
      "metadata": {
        "id": "pUh2THIT_A36"
      },
      "source": [
        "from keras.models import Sequential\r\n",
        "from keras.optimizers import Adam\r\n",
        "from keras.layers import Dense,Conv2D,Flatten,LeakyReLU,Dropout,Conv2DTranspose,Reshape\r\n",
        "from keras.utils.vis_utils import plot_model\r\n",
        "from keras import layers"
      ],
      "execution_count": null,
      "outputs": []
    },
    {
      "cell_type": "code",
      "metadata": {
        "id": "-tjzITy4_C2W"
      },
      "source": [
        "def define_discriminator(input_shape=(28,28,1)):\r\n",
        "    model=Sequential()\r\n",
        "    model.add(Conv2D(64,(3,3),strides=(2,2),padding='same',input_shape=input_shape))\r\n",
        "    model.add(LeakyReLU(alpha=0.2))\r\n",
        "    model.add(Dropout(0.4))\r\n",
        "    model.add(Conv2D(64,(3,3),strides=(2,2),padding='same'))\r\n",
        "    model.add(LeakyReLU(alpha=0.2))\r\n",
        "    model.add(Dropout(0.4))\r\n",
        "    model.add(Flatten())\r\n",
        "    model.add(Dense(1,activation='sigmoid'))\r\n",
        "    opt=Adam(lr=0.0002,beta_1=0.5)\r\n",
        "    model.compile(loss='binary_crossentropy',optimizer=opt,metrics=['accuracy'])\r\n",
        "    return model"
      ],
      "execution_count": null,
      "outputs": []
    },
    {
      "cell_type": "code",
      "metadata": {
        "id": "QMVPTWSx_PMk"
      },
      "source": [
        "model=define_discriminator()"
      ],
      "execution_count": null,
      "outputs": []
    },
    {
      "cell_type": "code",
      "metadata": {
        "colab": {
          "base_uri": "https://localhost:8080/"
        },
        "id": "AJPzynBJ_WWX",
        "outputId": "a48bd727-fd71-4111-c3ba-1941d804ce0c"
      },
      "source": [
        "model.summary()"
      ],
      "execution_count": null,
      "outputs": [
        {
          "output_type": "stream",
          "text": [
            "Model: \"sequential\"\n",
            "_________________________________________________________________\n",
            "Layer (type)                 Output Shape              Param #   \n",
            "=================================================================\n",
            "conv2d (Conv2D)              (None, 14, 14, 64)        640       \n",
            "_________________________________________________________________\n",
            "leaky_re_lu (LeakyReLU)      (None, 14, 14, 64)        0         \n",
            "_________________________________________________________________\n",
            "dropout (Dropout)            (None, 14, 14, 64)        0         \n",
            "_________________________________________________________________\n",
            "conv2d_1 (Conv2D)            (None, 7, 7, 64)          36928     \n",
            "_________________________________________________________________\n",
            "leaky_re_lu_1 (LeakyReLU)    (None, 7, 7, 64)          0         \n",
            "_________________________________________________________________\n",
            "dropout_1 (Dropout)          (None, 7, 7, 64)          0         \n",
            "_________________________________________________________________\n",
            "flatten (Flatten)            (None, 3136)              0         \n",
            "_________________________________________________________________\n",
            "dense (Dense)                (None, 1)                 3137      \n",
            "=================================================================\n",
            "Total params: 40,705\n",
            "Trainable params: 40,705\n",
            "Non-trainable params: 0\n",
            "_________________________________________________________________\n"
          ],
          "name": "stdout"
        }
      ]
    },
    {
      "cell_type": "code",
      "metadata": {
        "id": "IifHLDOM_YsO"
      },
      "source": [
        "def load_real_samples():\r\n",
        "    (trainX,_),(_,_)=load_data()\r\n",
        "    X=np.expand_dims(trainX,-1)\r\n",
        "    X=X.astype('float32')\r\n",
        "    X=X/255\r\n",
        "    return X"
      ],
      "execution_count": null,
      "outputs": []
    },
    {
      "cell_type": "code",
      "metadata": {
        "id": "pU20t6_r_bGl"
      },
      "source": [
        "def generate_real_samples(dataset,n_samples):\r\n",
        "    ix=np.random.randint(1,len(dataset),n_samples)\r\n",
        "    X=dataset[ix]\r\n",
        "    y=np.ones((n_samples,1))\r\n",
        "    return X,y"
      ],
      "execution_count": null,
      "outputs": []
    },
    {
      "cell_type": "code",
      "metadata": {
        "id": "TYgUJB62_cwP"
      },
      "source": [
        "def generate_fake_samples(n_samples):\r\n",
        "    X=np.random.rand(28*28*n_samples)\r\n",
        "    X=X.reshape((n_samples,28,28,1))\r\n",
        "    y=np.zeros((n_samples,1))\r\n",
        "    return X,y"
      ],
      "execution_count": null,
      "outputs": []
    },
    {
      "cell_type": "code",
      "metadata": {
        "id": "HSfSgkTK_eos"
      },
      "source": [
        "def train_discriminator(model,dataset,n_iter=100,n_batch=256):\r\n",
        "    half_batch=int(n_batch/2)\r\n",
        "    for i in range(n_iter):\r\n",
        "        X_real,y_real=generate_real_samples(dataset,half_batch)\r\n",
        "        _,real_acc=model.train_on_batch(X_real,y_real)\r\n",
        "        X_fake,y_fake=generate_fake_samples(half_batch)\r\n",
        "        _,fake_acc=model.train_on_batch(X_fake,y_fake)\r\n",
        "        \r\n",
        "        print('>%d real=%.0f%% fake=%.0f%%' % (i+1, real_acc*100, fake_acc*100))"
      ],
      "execution_count": null,
      "outputs": []
    },
    {
      "cell_type": "code",
      "metadata": {
        "colab": {
          "base_uri": "https://localhost:8080/"
        },
        "id": "34s2lrZy_gY1",
        "outputId": "a69134e8-6909-43b1-f23f-8cfa7b2764c8"
      },
      "source": [
        "model=define_discriminator()\r\n",
        "dataset=load_real_samples()\r\n",
        "train_discriminator(model,dataset)"
      ],
      "execution_count": null,
      "outputs": [
        {
          "output_type": "stream",
          "text": [
            ">1 real=38% fake=36%\n",
            ">2 real=48% fake=57%\n",
            ">3 real=44% fake=69%\n",
            ">4 real=42% fake=84%\n",
            ">5 real=52% fake=91%\n",
            ">6 real=40% fake=100%\n",
            ">7 real=44% fake=99%\n",
            ">8 real=52% fake=99%\n",
            ">9 real=50% fake=100%\n",
            ">10 real=41% fake=100%\n",
            ">11 real=47% fake=100%\n",
            ">12 real=54% fake=100%\n",
            ">13 real=55% fake=100%\n",
            ">14 real=58% fake=100%\n",
            ">15 real=56% fake=100%\n",
            ">16 real=67% fake=100%\n",
            ">17 real=62% fake=100%\n",
            ">18 real=70% fake=100%\n",
            ">19 real=66% fake=100%\n",
            ">20 real=81% fake=100%\n",
            ">21 real=80% fake=100%\n",
            ">22 real=80% fake=100%\n",
            ">23 real=81% fake=100%\n",
            ">24 real=88% fake=100%\n",
            ">25 real=91% fake=100%\n",
            ">26 real=89% fake=100%\n",
            ">27 real=90% fake=100%\n",
            ">28 real=91% fake=100%\n",
            ">29 real=96% fake=100%\n",
            ">30 real=99% fake=100%\n",
            ">31 real=98% fake=100%\n",
            ">32 real=98% fake=100%\n",
            ">33 real=99% fake=100%\n",
            ">34 real=98% fake=100%\n",
            ">35 real=100% fake=100%\n",
            ">36 real=99% fake=100%\n",
            ">37 real=100% fake=100%\n",
            ">38 real=100% fake=100%\n",
            ">39 real=100% fake=100%\n",
            ">40 real=100% fake=100%\n",
            ">41 real=100% fake=100%\n",
            ">42 real=100% fake=100%\n",
            ">43 real=100% fake=100%\n",
            ">44 real=100% fake=100%\n",
            ">45 real=100% fake=100%\n",
            ">46 real=100% fake=100%\n",
            ">47 real=100% fake=100%\n",
            ">48 real=100% fake=100%\n",
            ">49 real=100% fake=100%\n",
            ">50 real=100% fake=100%\n",
            ">51 real=100% fake=100%\n",
            ">52 real=100% fake=100%\n",
            ">53 real=100% fake=100%\n",
            ">54 real=100% fake=100%\n",
            ">55 real=100% fake=100%\n",
            ">56 real=100% fake=100%\n",
            ">57 real=100% fake=100%\n",
            ">58 real=100% fake=100%\n",
            ">59 real=100% fake=100%\n",
            ">60 real=100% fake=100%\n",
            ">61 real=100% fake=100%\n",
            ">62 real=100% fake=100%\n",
            ">63 real=100% fake=100%\n",
            ">64 real=100% fake=100%\n",
            ">65 real=100% fake=100%\n",
            ">66 real=100% fake=100%\n",
            ">67 real=100% fake=100%\n",
            ">68 real=100% fake=100%\n",
            ">69 real=100% fake=100%\n",
            ">70 real=100% fake=100%\n",
            ">71 real=100% fake=100%\n",
            ">72 real=100% fake=100%\n",
            ">73 real=100% fake=100%\n",
            ">74 real=100% fake=100%\n",
            ">75 real=100% fake=100%\n",
            ">76 real=100% fake=100%\n",
            ">77 real=100% fake=100%\n",
            ">78 real=100% fake=100%\n",
            ">79 real=100% fake=100%\n",
            ">80 real=100% fake=100%\n",
            ">81 real=100% fake=100%\n",
            ">82 real=100% fake=100%\n",
            ">83 real=100% fake=100%\n",
            ">84 real=100% fake=100%\n",
            ">85 real=100% fake=100%\n",
            ">86 real=100% fake=100%\n",
            ">87 real=100% fake=100%\n",
            ">88 real=100% fake=100%\n",
            ">89 real=100% fake=100%\n",
            ">90 real=100% fake=100%\n",
            ">91 real=100% fake=100%\n",
            ">92 real=100% fake=100%\n",
            ">93 real=100% fake=100%\n",
            ">94 real=100% fake=100%\n",
            ">95 real=100% fake=100%\n",
            ">96 real=100% fake=100%\n",
            ">97 real=100% fake=100%\n",
            ">98 real=100% fake=100%\n",
            ">99 real=100% fake=100%\n",
            ">100 real=100% fake=100%\n"
          ],
          "name": "stdout"
        }
      ]
    },
    {
      "cell_type": "code",
      "metadata": {
        "id": "w9obRsi2_iav"
      },
      "source": [
        "d_model=model"
      ],
      "execution_count": null,
      "outputs": []
    },
    {
      "cell_type": "code",
      "metadata": {
        "id": "3C4POTUr_umU"
      },
      "source": [
        "def define_generator(latent_dim):\r\n",
        "    model=Sequential()\r\n",
        "    \r\n",
        "    n_nodes=7*7*128\r\n",
        "    model.add(Dense(n_nodes, input_dim=latent_dim))\r\n",
        "    model.add(LeakyReLU(alpha=0.2))\r\n",
        "    model.add(Reshape((7,7,128)))\r\n",
        "    model.add(Conv2DTranspose(128,(4,4),strides=(2,2),padding='same'))\r\n",
        "    model.add(LeakyReLU(alpha=0.2))\r\n",
        "    model.add(Conv2DTranspose(128,(4,4),strides=(2,2),padding='same'))\r\n",
        "    model.add(LeakyReLU(alpha=0.2))\r\n",
        "    model.add(Conv2D(1,(7,7),activation='sigmoid',padding='same'))\r\n",
        "    return model\r\n"
      ],
      "execution_count": null,
      "outputs": []
    },
    {
      "cell_type": "code",
      "metadata": {
        "colab": {
          "base_uri": "https://localhost:8080/"
        },
        "id": "GKyRKtFl_wGz",
        "outputId": "88f6b591-9da9-417f-f488-b8d00394662c"
      },
      "source": [
        "latent_dim=100\r\n",
        "model=define_generator(latent_dim)\r\n",
        "model.summary()"
      ],
      "execution_count": null,
      "outputs": [
        {
          "output_type": "stream",
          "text": [
            "Model: \"sequential_2\"\n",
            "_________________________________________________________________\n",
            "Layer (type)                 Output Shape              Param #   \n",
            "=================================================================\n",
            "dense_2 (Dense)              (None, 6272)              633472    \n",
            "_________________________________________________________________\n",
            "leaky_re_lu_4 (LeakyReLU)    (None, 6272)              0         \n",
            "_________________________________________________________________\n",
            "reshape (Reshape)            (None, 7, 7, 128)         0         \n",
            "_________________________________________________________________\n",
            "conv2d_transpose (Conv2DTran (None, 14, 14, 128)       262272    \n",
            "_________________________________________________________________\n",
            "leaky_re_lu_5 (LeakyReLU)    (None, 14, 14, 128)       0         \n",
            "_________________________________________________________________\n",
            "conv2d_transpose_1 (Conv2DTr (None, 28, 28, 128)       262272    \n",
            "_________________________________________________________________\n",
            "leaky_re_lu_6 (LeakyReLU)    (None, 28, 28, 128)       0         \n",
            "_________________________________________________________________\n",
            "conv2d_4 (Conv2D)            (None, 28, 28, 1)         6273      \n",
            "=================================================================\n",
            "Total params: 1,164,289\n",
            "Trainable params: 1,164,289\n",
            "Non-trainable params: 0\n",
            "_________________________________________________________________\n"
          ],
          "name": "stdout"
        }
      ]
    },
    {
      "cell_type": "code",
      "metadata": {
        "id": "k3JRK6CF_xhr"
      },
      "source": [
        "def generate_latent_points(latent_dim,n_samples):\r\n",
        "    x_input=np.random.randn(latent_dim*n_samples)\r\n",
        "    x_input=x_input.reshape(n_samples,latent_dim)\r\n",
        "    return x_input\r\n"
      ],
      "execution_count": null,
      "outputs": []
    },
    {
      "cell_type": "code",
      "metadata": {
        "id": "ixWjuW19_ziT"
      },
      "source": [
        "def generate_fake_samples(g_model,latent_dim,n_samples):\r\n",
        "    x_input=generate_latent_points(latent_dim,n_samples)\r\n",
        "    X=g_model.predict(x_input)\r\n",
        "    y=np.zeros((n_samples,1))\r\n",
        "    return X,y"
      ],
      "execution_count": null,
      "outputs": []
    },
    {
      "cell_type": "code",
      "metadata": {
        "colab": {
          "base_uri": "https://localhost:8080/",
          "height": 248
        },
        "id": "UpLOJb9s_1eQ",
        "outputId": "df07a185-0ec0-413f-d8ac-fc9434df87f5"
      },
      "source": [
        "latent_dim=100\r\n",
        "model=define_generator(latent_dim)\r\n",
        "n_samples=25\r\n",
        "X,_=generate_fake_samples(model,latent_dim,n_samples)\r\n",
        "\r\n",
        "for i in range(n_samples):\r\n",
        "    plt.subplot(5,5,i+1)\r\n",
        "    plt.axis('off')\r\n",
        "    plt.imshow(X[i,:,:,0],cmap='gray_r')\r\n",
        "plt.show()"
      ],
      "execution_count": null,
      "outputs": [
        {
          "output_type": "display_data",
          "data": {
            "image/png": "[encoded data removed]",
            "text/plain": [
              "<Figure size 432x288 with 25 Axes>"
            ]
          },
          "metadata": {
            "tags": [],
            "needs_background": "light"
          }
        }
      ]
    },
    {
      "cell_type": "code",
      "metadata": {
        "id": "sJaQUQLf_3VZ"
      },
      "source": [
        "g_model=model"
      ],
      "execution_count": null,
      "outputs": []
    },
    {
      "cell_type": "code",
      "metadata": {
        "id": "G_Fa0XG4ADQt"
      },
      "source": [
        "def define_gan(d_model,g_model):\r\n",
        "    d_model.trainable=False\r\n",
        "    model=Sequential()\r\n",
        "    model.add(g_model)\r\n",
        "    model.add(d_model)\r\n",
        "    opt=Adam(lr=0.0002,beta_1=0.5)\r\n",
        "    model.compile(loss='binary_crossentropy',optimizer=opt)\r\n",
        "    return model"
      ],
      "execution_count": null,
      "outputs": []
    },
    {
      "cell_type": "code",
      "metadata": {
        "id": "lz0cz5X6AGZP"
      },
      "source": [
        "gan_model=define_gan(d_model,g_model)"
      ],
      "execution_count": null,
      "outputs": []
    },
    {
      "cell_type": "code",
      "metadata": {
        "colab": {
          "base_uri": "https://localhost:8080/"
        },
        "id": "7UQV2YdvAIAi",
        "outputId": "781202f7-66b6-40ef-a55a-efec50f55759"
      },
      "source": [
        "gan_model.summary()"
      ],
      "execution_count": null,
      "outputs": [
        {
          "output_type": "stream",
          "text": [
            "Model: \"sequential_4\"\n",
            "_________________________________________________________________\n",
            "Layer (type)                 Output Shape              Param #   \n",
            "=================================================================\n",
            "sequential_3 (Sequential)    (None, 28, 28, 1)         1164289   \n",
            "_________________________________________________________________\n",
            "sequential_1 (Sequential)    (None, 1)                 40705     \n",
            "=================================================================\n",
            "Total params: 1,204,994\n",
            "Trainable params: 1,164,289\n",
            "Non-trainable params: 40,705\n",
            "_________________________________________________________________\n"
          ],
          "name": "stdout"
        }
      ]
    },
    {
      "cell_type": "code",
      "metadata": {
        "id": "orpZcax2AJlQ"
      },
      "source": [
        "def train_gan(gan_model,latent_dim,n_epochs=100,n_batch=256):\r\n",
        "    for i in range(n_epochs):\r\n",
        "        x_gan=generate_latent_points(latent_dim,n_batch)\r\n",
        "        y_gan=np.ones((n_batch,1))\r\n",
        "        gan_model.train_on_batch(x_gan,y_gan)\r\n"
      ],
      "execution_count": null,
      "outputs": []
    },
    {
      "cell_type": "code",
      "metadata": {
        "id": "lH6Df76eALZ5"
      },
      "source": [
        "def train(g_model,gan_model,d_model,dataset,latent_dim,n_epochs=100,n_batch=256):\r\n",
        "    bat_per_epo=int(dataset.shape[0]/n_batch)\r\n",
        "    half_batch=int(n_batch/2)\r\n",
        "    for i in range(n_epochs):\r\n",
        "        print('epoch:'+str(i+1))\r\n",
        "        for j in range(bat_per_epo):\r\n",
        "            # print(str(j)+'/'+str(bat_per_epo))\r\n",
        "            X_real,y_real=generate_real_samples(dataset,half_batch)\r\n",
        "            X_fake,y_fake=generate_fake_samples(g_model,latent_dim,half_batch)\r\n",
        "            X,y=np.vstack((X_real, X_fake)), np.vstack((y_real, y_fake))\r\n",
        "            d_loss, _ = d_model.train_on_batch(X, y)\r\n",
        "            # gan_model=update_gan(d_model,gan_model)\r\n",
        "            X_gan=generate_latent_points(latent_dim,n_batch)\r\n",
        "            y_gan=np.ones((n_batch,1))\r\n",
        "            g_loss=gan_model.train_on_batch(X_gan,y_gan)\r\n",
        "        if (i+1)%10==0:\r\n",
        "            summarize_performance(i,g_model,d_model,dataset,latent_dim)"
      ],
      "execution_count": null,
      "outputs": []
    },
    {
      "cell_type": "code",
      "metadata": {
        "id": "258dYYfeAZsi"
      },
      "source": [
        "def summarize_performance(epoch,g_model,d_model,dataset,latent_dim,n_samples=100):\r\n",
        "    X_real,y_real=generate_real_samples(dataset,n_samples)\r\n",
        "    _,acc_real=d_model.evaluate(X_real,y_real,verbose=1)\r\n",
        "    X_fake,y_fake=generate_fake_samples(g_model,latent_dim,n_samples)\r\n",
        "    _,acc_fake=d_model.evaluate(X_fake,y_fake,verbose=1)\r\n",
        "    print('>Accuracy real: %.0f%%, fake: %.0f%%' % (acc_real*100, acc_fake*100))\r\n",
        "    save_plot(X_fake,epoch)\r\n",
        "    filename='generator_model_%03d.h5'%(epoch+1)\r\n",
        "    g_model.save(filename)"
      ],
      "execution_count": null,
      "outputs": []
    },
    {
      "cell_type": "code",
      "metadata": {
        "id": "8BA7f8teAckI"
      },
      "source": [
        "def save_plot(examples,epoch,n=10):\r\n",
        "    for i in range(n*n):\r\n",
        "        plt.subplot(n,n,1+i)\r\n",
        "        plt.axis('off')\r\n",
        "        plt.imshow(examples[i,:,:,0],cmap='gray_r')\r\n",
        "    filename='generated_plot_e%03d.png'%(epoch+1)\r\n",
        "    plt.savefig(filename)\r\n",
        "    plt.close()"
      ],
      "execution_count": null,
      "outputs": []
    },
    {
      "cell_type": "code",
      "metadata": {
        "colab": {
          "base_uri": "https://localhost:8080/"
        },
        "id": "3WSwOpDOAeW4",
        "outputId": "4cad9e5c-d6ba-4fad-ba23-c45799c3fd78"
      },
      "source": [
        "latent_dim=100\r\n",
        "d_model=define_discriminator()\r\n",
        "g_model=define_generator(latent_dim)\r\n",
        "gan_model=define_gan(d_model,g_model)\r\n",
        "dataset=load_real_samples()\r\n",
        "train(g_model,gan_model,d_model,dataset,latent_dim)"
      ],
      "execution_count": null,
      "outputs": [
        {
          "output_type": "stream",
          "text": [
            "epoch:1\n",
            "epoch:2\n",
            "epoch:3\n",
            "epoch:4\n",
            "epoch:5\n",
            "epoch:6\n",
            "epoch:7\n",
            "epoch:8\n",
            "epoch:9\n",
            "epoch:10\n",
            "4/4 [==============================] - 0s 8ms/step - loss: 0.6568 - accuracy: 0.9000\n",
            "4/4 [==============================] - 0s 3ms/step - loss: 0.7080 - accuracy: 0.3700\n",
            ">Accuracy real: 90%, fake: 37%\n",
            "epoch:11\n",
            "epoch:12\n",
            "epoch:13\n",
            "epoch:14\n",
            "epoch:15\n",
            "epoch:16\n",
            "epoch:17\n",
            "epoch:18\n",
            "epoch:19\n",
            "epoch:20\n",
            "4/4 [==============================] - 0s 4ms/step - loss: 0.6723 - accuracy: 0.7700\n",
            "4/4 [==============================] - 0s 4ms/step - loss: 0.6962 - accuracy: 0.4500\n",
            ">Accuracy real: 77%, fake: 45%\n",
            "epoch:21\n",
            "epoch:22\n",
            "epoch:23\n",
            "epoch:24\n",
            "epoch:25\n",
            "epoch:26\n",
            "epoch:27\n",
            "epoch:28\n",
            "epoch:29\n",
            "epoch:30\n",
            "4/4 [==============================] - 0s 4ms/step - loss: 0.6818 - accuracy: 0.6900\n",
            "4/4 [==============================] - 0s 3ms/step - loss: 0.6824 - accuracy: 0.6900\n",
            ">Accuracy real: 69%, fake: 69%\n",
            "epoch:31\n",
            "epoch:32\n",
            "epoch:33\n",
            "epoch:34\n",
            "epoch:35\n",
            "epoch:36\n",
            "epoch:37\n",
            "epoch:38\n",
            "epoch:39\n",
            "epoch:40\n",
            "4/4 [==============================] - 0s 4ms/step - loss: 0.6381 - accuracy: 0.9600\n",
            "4/4 [==============================] - 0s 3ms/step - loss: 0.7206 - accuracy: 0.1300\n",
            ">Accuracy real: 96%, fake: 13%\n",
            "epoch:41\n",
            "epoch:42\n",
            "epoch:43\n",
            "epoch:44\n",
            "epoch:45\n",
            "epoch:46\n",
            "epoch:47\n",
            "epoch:48\n",
            "epoch:49\n",
            "epoch:50\n",
            "4/4 [==============================] - 0s 4ms/step - loss: 0.6865 - accuracy: 0.6000\n",
            "4/4 [==============================] - 0s 3ms/step - loss: 0.6791 - accuracy: 0.7400\n",
            ">Accuracy real: 60%, fake: 74%\n",
            "epoch:51\n",
            "epoch:52\n",
            "epoch:53\n",
            "epoch:54\n",
            "epoch:55\n",
            "epoch:56\n",
            "epoch:57\n",
            "epoch:58\n",
            "epoch:59\n",
            "epoch:60\n",
            "4/4 [==============================] - 0s 4ms/step - loss: 0.6820 - accuracy: 0.7400\n",
            "4/4 [==============================] - 0s 3ms/step - loss: 0.6887 - accuracy: 0.5500\n",
            ">Accuracy real: 74%, fake: 55%\n",
            "epoch:61\n",
            "epoch:62\n",
            "epoch:63\n",
            "epoch:64\n",
            "epoch:65\n",
            "epoch:66\n",
            "epoch:67\n",
            "epoch:68\n",
            "epoch:69\n",
            "epoch:70\n",
            "4/4 [==============================] - 0s 4ms/step - loss: 0.6913 - accuracy: 0.5900\n",
            "4/4 [==============================] - 0s 4ms/step - loss: 0.6847 - accuracy: 0.7500\n",
            ">Accuracy real: 59%, fake: 75%\n",
            "epoch:71\n",
            "epoch:72\n",
            "epoch:73\n",
            "epoch:74\n",
            "epoch:75\n",
            "epoch:76\n",
            "epoch:77\n",
            "epoch:78\n",
            "epoch:79\n",
            "epoch:80\n",
            "4/4 [==============================] - 0s 4ms/step - loss: 0.7043 - accuracy: 0.2700\n",
            "4/4 [==============================] - 0s 4ms/step - loss: 0.6742 - accuracy: 0.8800\n",
            ">Accuracy real: 27%, fake: 88%\n",
            "epoch:81\n",
            "epoch:82\n",
            "epoch:83\n",
            "epoch:84\n",
            "epoch:85\n",
            "epoch:86\n",
            "epoch:87\n",
            "epoch:88\n",
            "epoch:89\n",
            "epoch:90\n",
            "4/4 [==============================] - 0s 4ms/step - loss: 0.6877 - accuracy: 0.6100\n",
            "4/4 [==============================] - 0s 4ms/step - loss: 0.6928 - accuracy: 0.5000\n",
            ">Accuracy real: 61%, fake: 50%\n",
            "epoch:91\n",
            "epoch:92\n",
            "epoch:93\n",
            "epoch:94\n",
            "epoch:95\n",
            "epoch:96\n",
            "epoch:97\n",
            "epoch:98\n",
            "epoch:99\n",
            "epoch:100\n",
            "4/4 [==============================] - 0s 4ms/step - loss: 0.7162 - accuracy: 0.0700\n",
            "4/4 [==============================] - 0s 3ms/step - loss: 0.6651 - accuracy: 0.9800\n",
            ">Accuracy real: 7%, fake: 98%\n"
          ],
          "name": "stdout"
        }
      ]
    }
  ]
}